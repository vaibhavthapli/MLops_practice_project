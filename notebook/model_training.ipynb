{
 "cells": [
  {
   "cell_type": "code",
   "id": "initial_id",
   "metadata": {
    "collapsed": true,
    "ExecuteTime": {
     "end_time": "2025-01-24T07:16:57.361322Z",
     "start_time": "2025-01-24T07:16:57.269537Z"
    }
   },
   "source": [
    "import pandas as pd\n",
    "import numpy as np\n",
    "import matplotlib.pyplot as plt\n",
    "import seaborn as sns\n",
    "import warnings\n",
    "warnings.filterwarnings('ignore')\n",
    "%matplotlib inline\n",
    "from catboost import CatBoostRegressor\n",
    "from sklearn.model_selection import RandomizedSearchCV\n",
    "from sklearn.metrics import  mean_absolute_error, mean_squared_error"
   ],
   "outputs": [],
   "execution_count": 1
  },
  {
   "metadata": {},
   "cell_type": "markdown",
   "source": "### Import the CSV Data as Pandas DataFrame",
   "id": "ebff4def398f044a"
  },
  {
   "metadata": {
    "ExecuteTime": {
     "end_time": "2025-01-24T07:16:57.372212Z",
     "start_time": "2025-01-24T07:16:57.365374Z"
    }
   },
   "cell_type": "code",
   "source": [
    "df = pd.read_csv(\"data/train.csv\")\n",
    "val = pd.read_csv(\"data/validation.csv\")"
   ],
   "id": "2a01954af1340c38",
   "outputs": [],
   "execution_count": 2
  },
  {
   "metadata": {
    "ExecuteTime": {
     "end_time": "2025-01-24T07:16:57.474147Z",
     "start_time": "2025-01-24T07:16:57.471485Z"
    }
   },
   "cell_type": "code",
   "source": [
    "print(df.shape)\n",
    "print(val.shape)"
   ],
   "id": "a780d063a0146a3",
   "outputs": [
    {
     "name": "stdout",
     "output_type": "stream",
     "text": [
      "(800, 8)\n",
      "(100, 8)\n"
     ]
    }
   ],
   "execution_count": 3
  },
  {
   "metadata": {
    "ExecuteTime": {
     "end_time": "2025-01-24T07:16:57.535735Z",
     "start_time": "2025-01-24T07:16:57.523516Z"
    }
   },
   "cell_type": "code",
   "source": "df.head()",
   "id": "e6bbeb328ff5989e",
   "outputs": [
    {
     "data": {
      "text/plain": [
       "   gender race_ethnicity parental_level_of_education         lunch  \\\n",
       "0  female        group D             master's degree      standard   \n",
       "1  female        group C           bachelor's degree  free/reduced   \n",
       "2  female        group D                some college  free/reduced   \n",
       "3    male        group C             master's degree  free/reduced   \n",
       "4    male        group E                 high school      standard   \n",
       "\n",
       "  test_preparation_course  math_score  reading_score  writing_score  \n",
       "0                    none          62             70             75  \n",
       "1               completed          66             83             83  \n",
       "2                    none          79             89             86  \n",
       "3                    none          61             67             66  \n",
       "4                    none          73             64             57  "
      ],
      "text/html": [
       "<div>\n",
       "<style scoped>\n",
       "    .dataframe tbody tr th:only-of-type {\n",
       "        vertical-align: middle;\n",
       "    }\n",
       "\n",
       "    .dataframe tbody tr th {\n",
       "        vertical-align: top;\n",
       "    }\n",
       "\n",
       "    .dataframe thead th {\n",
       "        text-align: right;\n",
       "    }\n",
       "</style>\n",
       "<table border=\"1\" class=\"dataframe\">\n",
       "  <thead>\n",
       "    <tr style=\"text-align: right;\">\n",
       "      <th></th>\n",
       "      <th>gender</th>\n",
       "      <th>race_ethnicity</th>\n",
       "      <th>parental_level_of_education</th>\n",
       "      <th>lunch</th>\n",
       "      <th>test_preparation_course</th>\n",
       "      <th>math_score</th>\n",
       "      <th>reading_score</th>\n",
       "      <th>writing_score</th>\n",
       "    </tr>\n",
       "  </thead>\n",
       "  <tbody>\n",
       "    <tr>\n",
       "      <th>0</th>\n",
       "      <td>female</td>\n",
       "      <td>group D</td>\n",
       "      <td>master's degree</td>\n",
       "      <td>standard</td>\n",
       "      <td>none</td>\n",
       "      <td>62</td>\n",
       "      <td>70</td>\n",
       "      <td>75</td>\n",
       "    </tr>\n",
       "    <tr>\n",
       "      <th>1</th>\n",
       "      <td>female</td>\n",
       "      <td>group C</td>\n",
       "      <td>bachelor's degree</td>\n",
       "      <td>free/reduced</td>\n",
       "      <td>completed</td>\n",
       "      <td>66</td>\n",
       "      <td>83</td>\n",
       "      <td>83</td>\n",
       "    </tr>\n",
       "    <tr>\n",
       "      <th>2</th>\n",
       "      <td>female</td>\n",
       "      <td>group D</td>\n",
       "      <td>some college</td>\n",
       "      <td>free/reduced</td>\n",
       "      <td>none</td>\n",
       "      <td>79</td>\n",
       "      <td>89</td>\n",
       "      <td>86</td>\n",
       "    </tr>\n",
       "    <tr>\n",
       "      <th>3</th>\n",
       "      <td>male</td>\n",
       "      <td>group C</td>\n",
       "      <td>master's degree</td>\n",
       "      <td>free/reduced</td>\n",
       "      <td>none</td>\n",
       "      <td>61</td>\n",
       "      <td>67</td>\n",
       "      <td>66</td>\n",
       "    </tr>\n",
       "    <tr>\n",
       "      <th>4</th>\n",
       "      <td>male</td>\n",
       "      <td>group E</td>\n",
       "      <td>high school</td>\n",
       "      <td>standard</td>\n",
       "      <td>none</td>\n",
       "      <td>73</td>\n",
       "      <td>64</td>\n",
       "      <td>57</td>\n",
       "    </tr>\n",
       "  </tbody>\n",
       "</table>\n",
       "</div>"
      ]
     },
     "execution_count": 4,
     "metadata": {},
     "output_type": "execute_result"
    }
   ],
   "execution_count": 4
  },
  {
   "metadata": {},
   "cell_type": "markdown",
   "source": "#### Prepare X_train, y_train, X_val, Y_val",
   "id": "4234ab5869f65f05"
  },
  {
   "metadata": {
    "ExecuteTime": {
     "end_time": "2025-01-24T07:16:57.634089Z",
     "start_time": "2025-01-24T07:16:57.629313Z"
    }
   },
   "cell_type": "code",
   "source": [
    "X_train = df.drop(columns=['math_score'],axis=1)\n",
    "y_train = df['math_score']\n",
    "X_val = val.drop(columns=['math_score'],axis=1)\n",
    "y_val = val['math_score']"
   ],
   "id": "52042c00adaae5ac",
   "outputs": [],
   "execution_count": 5
  },
  {
   "metadata": {
    "ExecuteTime": {
     "end_time": "2025-01-24T07:16:57.679969Z",
     "start_time": "2025-01-24T07:16:57.676628Z"
    }
   },
   "cell_type": "code",
   "source": [
    "print(X_train.shape)\n",
    "print(y_train.shape)\n",
    "print(X_val.shape)\n",
    "print(y_val.shape)"
   ],
   "id": "22e2b8d58f9d9ab0",
   "outputs": [
    {
     "name": "stdout",
     "output_type": "stream",
     "text": [
      "(800, 7)\n",
      "(800,)\n",
      "(100, 7)\n",
      "(100,)\n"
     ]
    }
   ],
   "execution_count": 6
  },
  {
   "metadata": {},
   "cell_type": "markdown",
   "source": "#### Preprocessing",
   "id": "8ad61dd5c3adbc89"
  },
  {
   "metadata": {
    "ExecuteTime": {
     "end_time": "2025-01-24T07:16:57.764239Z",
     "start_time": "2025-01-24T07:16:57.758988Z"
    }
   },
   "cell_type": "code",
   "source": [
    "#create column Transformer with 3 types of transformers for train data\n",
    "num_features = X_train.select_dtypes(exclude=['object']).columns\n",
    "cat_features = X_train.select_dtypes(include=['object']).columns\n",
    "\n",
    "# for validation data\n",
    "num_features_val = X_val.select_dtypes(exclude=['object']).columns\n",
    "cat_features_val = X_val.select_dtypes(include=['object']).columns\n"
   ],
   "id": "7f3dfb4c9ad1e413",
   "outputs": [],
   "execution_count": 7
  },
  {
   "metadata": {
    "ExecuteTime": {
     "end_time": "2025-01-24T07:16:57.877145Z",
     "start_time": "2025-01-24T07:16:57.839686Z"
    }
   },
   "cell_type": "code",
   "source": [
    "from sklearn.preprocessing import OneHotEncoder, StandardScaler\n",
    "from sklearn.compose import ColumnTransformer\n",
    "\n",
    "numeric_transformer = StandardScaler()\n",
    "oh_transformer = OneHotEncoder()\n",
    "\n",
    "preprocessor_train = ColumnTransformer(\n",
    "    [\n",
    "        (\"OneHotEncoder\", oh_transformer, cat_features),\n",
    "         (\"StandardScaler\", numeric_transformer, num_features),\n",
    "    ]\n",
    ")\n",
    "\n",
    "preprocessor_val = ColumnTransformer(\n",
    "    [\n",
    "        (\"OneHotEncoder\", oh_transformer, cat_features_val),\n",
    "         (\"StandardScaler\", numeric_transformer, num_features_val),\n",
    "    ]\n",
    ")"
   ],
   "id": "447d1ebba4bcd6a1",
   "outputs": [],
   "execution_count": 8
  },
  {
   "metadata": {
    "ExecuteTime": {
     "end_time": "2025-01-24T07:16:57.912590Z",
     "start_time": "2025-01-24T07:16:57.899752Z"
    }
   },
   "cell_type": "code",
   "source": "X_train = preprocessor_train.fit_transform(X_train)",
   "id": "f32df377080a155a",
   "outputs": [],
   "execution_count": 9
  },
  {
   "metadata": {
    "ExecuteTime": {
     "end_time": "2025-01-24T07:16:57.947321Z",
     "start_time": "2025-01-24T07:16:57.943501Z"
    }
   },
   "cell_type": "code",
   "source": "X_train.shape",
   "id": "da734ed4729d1d7f",
   "outputs": [
    {
     "data": {
      "text/plain": [
       "(800, 19)"
      ]
     },
     "execution_count": 10,
     "metadata": {},
     "output_type": "execute_result"
    }
   ],
   "execution_count": 10
  },
  {
   "metadata": {
    "ExecuteTime": {
     "end_time": "2025-01-24T07:16:58.004478Z",
     "start_time": "2025-01-24T07:16:57.994372Z"
    }
   },
   "cell_type": "code",
   "source": [
    "X_val = preprocessor_val.fit_transform(X_val)\n",
    "X_val.shape"
   ],
   "id": "3a375a6a7f5d2911",
   "outputs": [
    {
     "data": {
      "text/plain": [
       "(100, 19)"
      ]
     },
     "execution_count": 11,
     "metadata": {},
     "output_type": "execute_result"
    }
   ],
   "execution_count": 11
  },
  {
   "metadata": {},
   "cell_type": "markdown",
   "source": "# use lazypredict",
   "id": "c12bfb88c41f5ace"
  },
  {
   "metadata": {
    "ExecuteTime": {
     "end_time": "2025-01-24T07:17:06.972509Z",
     "start_time": "2025-01-24T07:16:58.053038Z"
    }
   },
   "cell_type": "code",
   "source": [
    "from lazypredict.Supervised import LazyRegressor\n",
    "reg = LazyRegressor(verbose=0, ignore_warnings=True, custom_metric=None)\n",
    "models, predictions = reg.fit(X_train, X_val, y_train, y_val)"
   ],
   "id": "49c78eb654ce782f",
   "outputs": [
    {
     "name": "stderr",
     "output_type": "stream",
     "text": [
      "100%|██████████| 42/42 [00:08<00:00,  4.85it/s]"
     ]
    },
    {
     "name": "stdout",
     "output_type": "stream",
     "text": [
      "[LightGBM] [Info] Auto-choosing row-wise multi-threading, the overhead of testing was 0.000214 seconds.\n",
      "You can set `force_row_wise=true` to remove the overhead.\n",
      "And if memory is not enough, you can set `force_col_wise=true`.\n",
      "[LightGBM] [Info] Total Bins 178\n",
      "[LightGBM] [Info] Number of data points in the train set: 800, number of used features: 19\n",
      "[LightGBM] [Info] Start training from score 66.496250\n",
      "[LightGBM] [Warning] No further splits with positive gain, best gain: -inf\n",
      "[LightGBM] [Warning] No further splits with positive gain, best gain: -inf\n",
      "[LightGBM] [Warning] No further splits with positive gain, best gain: -inf\n",
      "[LightGBM] [Warning] No further splits with positive gain, best gain: -inf\n",
      "[LightGBM] [Warning] No further splits with positive gain, best gain: -inf\n",
      "[LightGBM] [Warning] No further splits with positive gain, best gain: -inf\n",
      "[LightGBM] [Warning] No further splits with positive gain, best gain: -inf\n",
      "[LightGBM] [Warning] No further splits with positive gain, best gain: -inf\n",
      "[LightGBM] [Warning] No further splits with positive gain, best gain: -inf\n",
      "[LightGBM] [Warning] No further splits with positive gain, best gain: -inf\n",
      "[LightGBM] [Warning] No further splits with positive gain, best gain: -inf\n",
      "[LightGBM] [Warning] No further splits with positive gain, best gain: -inf\n",
      "[LightGBM] [Warning] No further splits with positive gain, best gain: -inf\n",
      "[LightGBM] [Warning] No further splits with positive gain, best gain: -inf\n",
      "[LightGBM] [Warning] No further splits with positive gain, best gain: -inf\n",
      "[LightGBM] [Warning] No further splits with positive gain, best gain: -inf\n",
      "[LightGBM] [Warning] No further splits with positive gain, best gain: -inf\n",
      "[LightGBM] [Warning] No further splits with positive gain, best gain: -inf\n",
      "[LightGBM] [Warning] No further splits with positive gain, best gain: -inf\n",
      "[LightGBM] [Warning] No further splits with positive gain, best gain: -inf\n",
      "[LightGBM] [Warning] No further splits with positive gain, best gain: -inf\n",
      "[LightGBM] [Warning] No further splits with positive gain, best gain: -inf\n",
      "[LightGBM] [Warning] No further splits with positive gain, best gain: -inf\n",
      "[LightGBM] [Warning] No further splits with positive gain, best gain: -inf\n",
      "[LightGBM] [Warning] No further splits with positive gain, best gain: -inf\n",
      "[LightGBM] [Warning] No further splits with positive gain, best gain: -inf\n",
      "[LightGBM] [Warning] No further splits with positive gain, best gain: -inf\n",
      "[LightGBM] [Warning] No further splits with positive gain, best gain: -inf\n",
      "[LightGBM] [Warning] No further splits with positive gain, best gain: -inf\n",
      "[LightGBM] [Warning] No further splits with positive gain, best gain: -inf\n",
      "[LightGBM] [Warning] No further splits with positive gain, best gain: -inf\n",
      "[LightGBM] [Warning] No further splits with positive gain, best gain: -inf\n",
      "[LightGBM] [Warning] No further splits with positive gain, best gain: -inf\n",
      "[LightGBM] [Warning] No further splits with positive gain, best gain: -inf\n",
      "[LightGBM] [Warning] No further splits with positive gain, best gain: -inf\n",
      "[LightGBM] [Warning] No further splits with positive gain, best gain: -inf\n",
      "[LightGBM] [Warning] No further splits with positive gain, best gain: -inf\n",
      "[LightGBM] [Warning] No further splits with positive gain, best gain: -inf\n",
      "[LightGBM] [Warning] No further splits with positive gain, best gain: -inf\n",
      "[LightGBM] [Warning] No further splits with positive gain, best gain: -inf\n",
      "[LightGBM] [Warning] No further splits with positive gain, best gain: -inf\n",
      "[LightGBM] [Warning] No further splits with positive gain, best gain: -inf\n",
      "[LightGBM] [Warning] No further splits with positive gain, best gain: -inf\n",
      "[LightGBM] [Warning] No further splits with positive gain, best gain: -inf\n",
      "[LightGBM] [Warning] No further splits with positive gain, best gain: -inf\n",
      "[LightGBM] [Warning] No further splits with positive gain, best gain: -inf\n"
     ]
    },
    {
     "name": "stderr",
     "output_type": "stream",
     "text": [
      "\n"
     ]
    }
   ],
   "execution_count": 12
  },
  {
   "metadata": {
    "ExecuteTime": {
     "end_time": "2025-01-24T07:17:06.998734Z",
     "start_time": "2025-01-24T07:17:06.992540Z"
    }
   },
   "cell_type": "code",
   "source": "print(models)",
   "id": "a32a2603e7622a1f",
   "outputs": [
    {
     "name": "stdout",
     "output_type": "stream",
     "text": [
      "                               Adjusted R-Squared  R-Squared  RMSE  Time Taken\n",
      "Model                                                                         \n",
      "LinearSVR                                    0.78       0.82  5.46        0.05\n",
      "ElasticNetCV                                 0.77       0.81  5.61        0.16\n",
      "HuberRegressor                               0.77       0.81  5.61        0.35\n",
      "LarsCV                                       0.77       0.81  5.62        0.08\n",
      "BayesianRidge                                0.77       0.81  5.62        0.15\n",
      "LassoCV                                      0.77       0.81  5.63        0.17\n",
      "Ridge                                        0.77       0.81  5.63        0.01\n",
      "RidgeCV                                      0.77       0.81  5.63        0.07\n",
      "Lars                                         0.77       0.81  5.63        0.07\n",
      "LassoLarsCV                                  0.77       0.81  5.63        0.05\n",
      "LassoLarsIC                                  0.77       0.81  5.63        0.13\n",
      "TransformedTargetRegressor                   0.77       0.81  5.63        0.01\n",
      "LinearRegression                             0.77       0.81  5.63        0.05\n",
      "SGDRegressor                                 0.77       0.81  5.63        0.03\n",
      "RANSACRegressor                              0.76       0.81  5.72        0.22\n",
      "PoissonRegressor                             0.76       0.81  5.73        0.84\n",
      "LassoLars                                    0.75       0.80  5.79        0.02\n",
      "Lasso                                        0.75       0.80  5.79        0.02\n",
      "OrthogonalMatchingPursuitCV                  0.75       0.80  5.79        0.03\n",
      "GradientBoostingRegressor                    0.74       0.79  5.94        0.18\n",
      "AdaBoostRegressor                            0.72       0.78  6.15        0.10\n",
      "HistGradientBoostingRegressor                0.72       0.77  6.22        0.18\n",
      "LGBMRegressor                                0.72       0.77  6.23        0.06\n",
      "ElasticNet                                   0.71       0.76  6.34        0.01\n",
      "RandomForestRegressor                        0.70       0.76  6.37        0.36\n",
      "ExtraTreesRegressor                          0.67       0.73  6.73        0.35\n",
      "BaggingRegressor                             0.66       0.73  6.77        0.05\n",
      "MLPRegressor                                 0.66       0.73  6.80        1.14\n",
      "GammaRegressor                               0.66       0.72  6.84        0.19\n",
      "TweedieRegressor                             0.63       0.70  7.07        0.57\n",
      "SVR                                          0.60       0.68  7.41        0.10\n",
      "NuSVR                                        0.57       0.65  7.69        0.08\n",
      "DecisionTreeRegressor                        0.51       0.60  8.19        0.06\n",
      "OrthogonalMatchingPursuit                    0.44       0.55  8.72        0.02\n",
      "PassiveAggressiveRegressor                   0.44       0.55  8.74        0.02\n",
      "ExtraTreeRegressor                           0.42       0.53  8.88        0.03\n",
      "KNeighborsRegressor                          0.27       0.41 10.01        0.11\n",
      "QuantileRegressor                           -0.25      -0.01 13.08        1.82\n",
      "DummyRegressor                              -0.26      -0.02 13.14        0.04\n",
      "GaussianProcessRegressor                    -8.70      -6.84 36.42        0.31\n",
      "KernelRidge                                -29.72     -23.82 64.80        0.15\n"
     ]
    }
   ],
   "execution_count": 13
  },
  {
   "metadata": {
    "ExecuteTime": {
     "end_time": "2025-01-24T07:17:07.084217Z",
     "start_time": "2025-01-24T07:17:07.082583Z"
    }
   },
   "cell_type": "code",
   "source": "\n",
   "id": "c1d3ae25435ee8e6",
   "outputs": [],
   "execution_count": 13
  },
  {
   "metadata": {
    "ExecuteTime": {
     "end_time": "2025-01-24T07:17:07.130551Z",
     "start_time": "2025-01-24T07:17:07.127111Z"
    }
   },
   "cell_type": "code",
   "source": [
    "best_model = models.loc[models['Adjusted R-Squared'].idxmax()]\n",
    "print(\"Best Model:\\n\", best_model)"
   ],
   "id": "6e9736ecaf01dfdd",
   "outputs": [
    {
     "name": "stdout",
     "output_type": "stream",
     "text": [
      "Best Model:\n",
      " Adjusted R-Squared   0.78\n",
      "R-Squared            0.82\n",
      "RMSE                 5.46\n",
      "Time Taken           0.05\n",
      "Name: LinearSVR, dtype: float64\n"
     ]
    }
   ],
   "execution_count": 14
  },
  {
   "metadata": {
    "ExecuteTime": {
     "end_time": "2025-01-24T07:17:07.178491Z",
     "start_time": "2025-01-24T07:17:07.176479Z"
    }
   },
   "cell_type": "code",
   "source": "",
   "id": "41828883a07c081",
   "outputs": [],
   "execution_count": null
  },
  {
   "metadata": {},
   "cell_type": "markdown",
   "source": "## Use old way of codding",
   "id": "38f8c1a9a7ecbd51"
  },
  {
   "metadata": {
    "ExecuteTime": {
     "end_time": "2025-01-24T07:17:07.202482Z",
     "start_time": "2025-01-24T07:17:07.199023Z"
    }
   },
   "cell_type": "code",
   "source": [
    "from sklearn.metrics import mean_squared_error, r2_score\n",
    "from sklearn.neighbors import KNeighborsRegressor\n",
    "from sklearn.tree import DecisionTreeRegressor\n",
    "from sklearn.ensemble import RandomForestRegressor,AdaBoostRegressor\n",
    "from sklearn.svm import SVR\n",
    "from sklearn.svm import LinearSVR\n",
    "from sklearn.linear_model import LinearRegression, Ridge,Lasso\n",
    "from sklearn.metrics import r2_score, mean_absolute_error, mean_squared_error\n",
    "from sklearn.model_selection import RandomizedSearchCV, GridSearchCV\n",
    "from catboost import CatBoostRegressor\n",
    "from xgboost import XGBRegressor"
   ],
   "id": "b95b9a348596a5f1",
   "outputs": [],
   "execution_count": 15
  },
  {
   "metadata": {},
   "cell_type": "markdown",
   "source": "Create an Evaluate Function to give all metrics after model Training",
   "id": "8b78ea11b1c982d8"
  },
  {
   "metadata": {
    "ExecuteTime": {
     "end_time": "2025-01-24T07:17:07.247728Z",
     "start_time": "2025-01-24T07:17:07.244815Z"
    }
   },
   "cell_type": "code",
   "source": [
    "def evaluate_model(true, predicted):\n",
    "    mae = mean_absolute_error(true, predicted)\n",
    "    mse = mean_squared_error(true, predicted)\n",
    "    rmse = np.sqrt(mean_squared_error(true, predicted))\n",
    "    r2_square = r2_score(true, predicted)\n",
    "    return mae, rmse, r2_square"
   ],
   "id": "57b2464d1b1a1cd4",
   "outputs": [],
   "execution_count": 16
  },
  {
   "metadata": {
    "ExecuteTime": {
     "end_time": "2025-01-24T07:17:08.676207Z",
     "start_time": "2025-01-24T07:17:07.294083Z"
    }
   },
   "cell_type": "code",
   "source": [
    "models = {\n",
    "    \"Linear SVR\": LinearSVR(),\n",
    "    \"SVR\": SVR(),\n",
    "    \"Linear Regression\": LinearRegression(),\n",
    "    \"Lasso\": Lasso(),\n",
    "    \"Ridge\": Ridge(),\n",
    "    \"K-Neighbors Regressor\": KNeighborsRegressor(),\n",
    "    \"Decision Tree\": DecisionTreeRegressor(),\n",
    "    \"Random Forest Regressor\": RandomForestRegressor(),\n",
    "    \"XGBRegressor\": XGBRegressor(),\n",
    "    \"CatBoosting Regressor\": CatBoostRegressor(verbose=False),\n",
    "    \"AdaBoost Regressor\": AdaBoostRegressor()\n",
    "}\n",
    "model_list = []\n",
    "r2_list =[]\n",
    "\n",
    "for i in range(len(list(models))):\n",
    "    model = list(models.values())[i]\n",
    "    model.fit(X_train, y_train) # Train model\n",
    "\n",
    "    # Make predictions\n",
    "    y_train_pred = model.predict(X_train)\n",
    "    y_test_pred = model.predict(X_val)\n",
    "\n",
    "    # Evaluate Train and Test dataset\n",
    "    model_train_mae , model_train_rmse, model_train_r2 = evaluate_model(y_train, y_train_pred)\n",
    "\n",
    "    model_test_mae , model_test_rmse, model_test_r2 = evaluate_model(y_val, y_test_pred)\n",
    "\n",
    "\n",
    "    print(list(models.keys())[i])\n",
    "    model_list.append(list(models.keys())[i])\n",
    "\n",
    "    print('Model performance for Training set')\n",
    "    print(\"- Root Mean Squared Error: {:.4f}\".format(model_train_rmse))\n",
    "    print(\"- Mean Absolute Error: {:.4f}\".format(model_train_mae))\n",
    "    print(\"- R2 Score: {:.4f}\".format(model_train_r2))\n",
    "\n",
    "    print('----------------------------------')\n",
    "\n",
    "    print('Model performance for Test set')\n",
    "    print(\"- Root Mean Squared Error: {:.4f}\".format(model_test_rmse))\n",
    "    print(\"- Mean Absolute Error: {:.4f}\".format(model_test_mae))\n",
    "    print(\"- R2 Score: {:.4f}\".format(model_test_r2))\n",
    "    r2_list.append(model_test_r2)\n",
    "\n",
    "    print('='*35)\n",
    "    print('\\n')\n"
   ],
   "id": "bfad67e36869b490",
   "outputs": [
    {
     "name": "stdout",
     "output_type": "stream",
     "text": [
      "Linear SVR\n",
      "Model performance for Training set\n",
      "- Root Mean Squared Error: 5.3707\n",
      "- Mean Absolute Error: 4.2556\n",
      "- R2 Score: 0.8721\n",
      "----------------------------------\n",
      "Model performance for Test set\n",
      "- Root Mean Squared Error: 5.5370\n",
      "- Mean Absolute Error: 4.2294\n",
      "- R2 Score: 0.8188\n",
      "===================================\n",
      "\n",
      "\n",
      "SVR\n",
      "Model performance for Training set\n",
      "- Root Mean Squared Error: 6.5721\n",
      "- Mean Absolute Error: 4.8663\n",
      "- R2 Score: 0.8084\n",
      "----------------------------------\n",
      "Model performance for Test set\n",
      "- Root Mean Squared Error: 6.2822\n",
      "- Mean Absolute Error: 4.8120\n",
      "- R2 Score: 0.7667\n",
      "===================================\n",
      "\n",
      "\n",
      "Linear Regression\n",
      "Model performance for Training set\n",
      "- Root Mean Squared Error: 5.3231\n",
      "- Mean Absolute Error: 4.2667\n",
      "- R2 Score: 0.8743\n",
      "----------------------------------\n",
      "Model performance for Test set\n",
      "- Root Mean Squared Error: 5.6334\n",
      "- Mean Absolute Error: 4.2662\n",
      "- R2 Score: 0.8124\n",
      "===================================\n",
      "\n",
      "\n",
      "Lasso\n",
      "Model performance for Training set\n",
      "- Root Mean Squared Error: 6.5925\n",
      "- Mean Absolute Error: 5.2053\n",
      "- R2 Score: 0.8072\n",
      "----------------------------------\n",
      "Model performance for Test set\n",
      "- Root Mean Squared Error: 6.3754\n",
      "- Mean Absolute Error: 4.9180\n",
      "- R2 Score: 0.7597\n",
      "===================================\n",
      "\n",
      "\n",
      "Ridge\n",
      "Model performance for Training set\n",
      "- Root Mean Squared Error: 5.3233\n",
      "- Mean Absolute Error: 4.2650\n",
      "- R2 Score: 0.8743\n",
      "----------------------------------\n",
      "Model performance for Test set\n",
      "- Root Mean Squared Error: 5.6294\n",
      "- Mean Absolute Error: 4.2603\n",
      "- R2 Score: 0.8127\n",
      "===================================\n",
      "\n",
      "\n",
      "K-Neighbors Regressor\n",
      "Model performance for Training set\n",
      "- Root Mean Squared Error: 5.6974\n",
      "- Mean Absolute Error: 4.5042\n",
      "- R2 Score: 0.8560\n",
      "----------------------------------\n",
      "Model performance for Test set\n",
      "- Root Mean Squared Error: 6.8310\n",
      "- Mean Absolute Error: 5.4160\n",
      "- R2 Score: 0.7241\n",
      "===================================\n",
      "\n",
      "\n",
      "Decision Tree\n",
      "Model performance for Training set\n",
      "- Root Mean Squared Error: 0.2795\n",
      "- Mean Absolute Error: 0.0187\n",
      "- R2 Score: 0.9997\n",
      "----------------------------------\n",
      "Model performance for Test set\n",
      "- Root Mean Squared Error: 7.9185\n",
      "- Mean Absolute Error: 6.3050\n",
      "- R2 Score: 0.6293\n",
      "===================================\n",
      "\n",
      "\n",
      "Random Forest Regressor\n",
      "Model performance for Training set\n",
      "- Root Mean Squared Error: 2.3020\n",
      "- Mean Absolute Error: 1.8233\n",
      "- R2 Score: 0.9765\n",
      "----------------------------------\n",
      "Model performance for Test set\n",
      "- Root Mean Squared Error: 6.3647\n",
      "- Mean Absolute Error: 5.0850\n",
      "- R2 Score: 0.7605\n",
      "===================================\n",
      "\n",
      "\n",
      "XGBRegressor\n",
      "Model performance for Training set\n",
      "- Root Mean Squared Error: 1.0073\n",
      "- Mean Absolute Error: 0.6875\n",
      "- R2 Score: 0.9955\n",
      "----------------------------------\n",
      "Model performance for Test set\n",
      "- Root Mean Squared Error: 6.6313\n",
      "- Mean Absolute Error: 5.3390\n",
      "- R2 Score: 0.7400\n",
      "===================================\n",
      "\n",
      "\n",
      "CatBoosting Regressor\n",
      "Model performance for Training set\n",
      "- Root Mean Squared Error: 3.0427\n",
      "- Mean Absolute Error: 2.4054\n",
      "- R2 Score: 0.9589\n",
      "----------------------------------\n",
      "Model performance for Test set\n",
      "- Root Mean Squared Error: 6.1317\n",
      "- Mean Absolute Error: 4.6834\n",
      "- R2 Score: 0.7777\n",
      "===================================\n",
      "\n",
      "\n",
      "AdaBoost Regressor\n",
      "Model performance for Training set\n",
      "- Root Mean Squared Error: 5.7963\n",
      "- Mean Absolute Error: 4.7416\n",
      "- R2 Score: 0.8510\n",
      "----------------------------------\n",
      "Model performance for Test set\n",
      "- Root Mean Squared Error: 6.2302\n",
      "- Mean Absolute Error: 4.7968\n",
      "- R2 Score: 0.7705\n",
      "===================================\n",
      "\n",
      "\n"
     ]
    }
   ],
   "execution_count": 17
  },
  {
   "metadata": {},
   "cell_type": "markdown",
   "source": "Results",
   "id": "190ceccd0c546d10"
  },
  {
   "metadata": {
    "ExecuteTime": {
     "end_time": "2025-01-24T07:17:08.705184Z",
     "start_time": "2025-01-24T07:17:08.699677Z"
    }
   },
   "cell_type": "code",
   "source": "pd.DataFrame(list(zip(model_list, r2_list)), columns=['Model Name', 'R2_Score']).sort_values(by=[\"R2_Score\"],ascending=False)\n",
   "id": "34946cea510bc3a8",
   "outputs": [
    {
     "data": {
      "text/plain": [
       "                 Model Name  R2_Score\n",
       "0                Linear SVR      0.82\n",
       "4                     Ridge      0.81\n",
       "2         Linear Regression      0.81\n",
       "9     CatBoosting Regressor      0.78\n",
       "10       AdaBoost Regressor      0.77\n",
       "1                       SVR      0.77\n",
       "7   Random Forest Regressor      0.76\n",
       "3                     Lasso      0.76\n",
       "8              XGBRegressor      0.74\n",
       "5     K-Neighbors Regressor      0.72\n",
       "6             Decision Tree      0.63"
      ],
      "text/html": [
       "<div>\n",
       "<style scoped>\n",
       "    .dataframe tbody tr th:only-of-type {\n",
       "        vertical-align: middle;\n",
       "    }\n",
       "\n",
       "    .dataframe tbody tr th {\n",
       "        vertical-align: top;\n",
       "    }\n",
       "\n",
       "    .dataframe thead th {\n",
       "        text-align: right;\n",
       "    }\n",
       "</style>\n",
       "<table border=\"1\" class=\"dataframe\">\n",
       "  <thead>\n",
       "    <tr style=\"text-align: right;\">\n",
       "      <th></th>\n",
       "      <th>Model Name</th>\n",
       "      <th>R2_Score</th>\n",
       "    </tr>\n",
       "  </thead>\n",
       "  <tbody>\n",
       "    <tr>\n",
       "      <th>0</th>\n",
       "      <td>Linear SVR</td>\n",
       "      <td>0.82</td>\n",
       "    </tr>\n",
       "    <tr>\n",
       "      <th>4</th>\n",
       "      <td>Ridge</td>\n",
       "      <td>0.81</td>\n",
       "    </tr>\n",
       "    <tr>\n",
       "      <th>2</th>\n",
       "      <td>Linear Regression</td>\n",
       "      <td>0.81</td>\n",
       "    </tr>\n",
       "    <tr>\n",
       "      <th>9</th>\n",
       "      <td>CatBoosting Regressor</td>\n",
       "      <td>0.78</td>\n",
       "    </tr>\n",
       "    <tr>\n",
       "      <th>10</th>\n",
       "      <td>AdaBoost Regressor</td>\n",
       "      <td>0.77</td>\n",
       "    </tr>\n",
       "    <tr>\n",
       "      <th>1</th>\n",
       "      <td>SVR</td>\n",
       "      <td>0.77</td>\n",
       "    </tr>\n",
       "    <tr>\n",
       "      <th>7</th>\n",
       "      <td>Random Forest Regressor</td>\n",
       "      <td>0.76</td>\n",
       "    </tr>\n",
       "    <tr>\n",
       "      <th>3</th>\n",
       "      <td>Lasso</td>\n",
       "      <td>0.76</td>\n",
       "    </tr>\n",
       "    <tr>\n",
       "      <th>8</th>\n",
       "      <td>XGBRegressor</td>\n",
       "      <td>0.74</td>\n",
       "    </tr>\n",
       "    <tr>\n",
       "      <th>5</th>\n",
       "      <td>K-Neighbors Regressor</td>\n",
       "      <td>0.72</td>\n",
       "    </tr>\n",
       "    <tr>\n",
       "      <th>6</th>\n",
       "      <td>Decision Tree</td>\n",
       "      <td>0.63</td>\n",
       "    </tr>\n",
       "  </tbody>\n",
       "</table>\n",
       "</div>"
      ]
     },
     "execution_count": 18,
     "metadata": {},
     "output_type": "execute_result"
    }
   ],
   "execution_count": 18
  },
  {
   "metadata": {},
   "cell_type": "markdown",
   "source": "Linear SVR is the best model",
   "id": "d9e268e07cfee15a"
  },
  {
   "metadata": {
    "ExecuteTime": {
     "end_time": "2025-01-24T07:17:08.783619Z",
     "start_time": "2025-01-24T07:17:08.779080Z"
    }
   },
   "cell_type": "code",
   "source": [
    "lin_svr = LinearSVR(fit_intercept=True)\n",
    "lin_svr = lin_svr.fit(X_train, y_train)\n",
    "y_pred = lin_svr.predict(X_val)\n",
    "score = r2_score(y_val, y_pred)*100\n",
    "print(\" Accuracy of the model is %.2f\" %score)\n",
    "\n"
   ],
   "id": "f8e19c3095f5aa52",
   "outputs": [
    {
     "name": "stdout",
     "output_type": "stream",
     "text": [
      " Accuracy of the model is 81.94\n"
     ]
    }
   ],
   "execution_count": 19
  },
  {
   "metadata": {
    "ExecuteTime": {
     "end_time": "2025-01-24T07:17:08.985325Z",
     "start_time": "2025-01-24T07:17:08.831036Z"
    }
   },
   "cell_type": "code",
   "source": [
    "plt.scatter(y_val,y_pred);\n",
    "plt.xlabel('Actual');\n",
    "plt.ylabel('Predicted');"
   ],
   "id": "41d13f6e45e8e1ba",
   "outputs": [
    {
     "data": {
      "text/plain": [
       "<Figure size 640x480 with 1 Axes>"
      ],
      "image/png": "[encoded data removed]"
     },
     "metadata": {},
     "output_type": "display_data"
    }
   ],
   "execution_count": 20
  },
  {
   "metadata": {
    "ExecuteTime": {
     "end_time": "2025-01-24T07:17:09.134676Z",
     "start_time": "2025-01-24T07:17:09.018558Z"
    }
   },
   "cell_type": "code",
   "source": "sns.regplot(x=y_val,y=y_pred,ci=None,color ='red');\n",
   "id": "cb7042b150207876",
   "outputs": [
    {
     "data": {
      "text/plain": [
       "<Figure size 640x480 with 1 Axes>"
      ],
      "image/png": "[encoded data removed]"
     },
     "metadata": {},
     "output_type": "display_data"
    }
   ],
   "execution_count": 21
  },
  {
   "metadata": {
    "ExecuteTime": {
     "end_time": "2025-01-24T07:17:09.142561Z",
     "start_time": "2025-01-24T07:17:09.140565Z"
    }
   },
   "cell_type": "code",
   "source": "",
   "id": "337c93f9043495df",
   "outputs": [],
   "execution_count": null
  },
  {
   "metadata": {
    "ExecuteTime": {
     "end_time": "2025-01-24T07:17:09.229405Z",
     "start_time": "2025-01-24T07:17:09.217422Z"
    }
   },
   "cell_type": "code",
   "source": [
    "pred_df=pd.DataFrame({'Actual Value':y_val,'Predicted Value':y_pred,'Difference':y_val-y_pred})\n",
    "pred_df"
   ],
   "id": "de1b60f94e896cb4",
   "outputs": [
    {
     "data": {
      "text/plain": [
       "    Actual Value  Predicted Value  Difference\n",
       "0             75            72.81        2.19\n",
       "1             65            72.57       -7.57\n",
       "2             62            66.71       -4.71\n",
       "3             79            76.85        2.15\n",
       "4             61            49.35       11.65\n",
       "..           ...              ...         ...\n",
       "95            60            54.26        5.74\n",
       "96            51            53.02       -2.02\n",
       "97            69            66.72        2.28\n",
       "98            40            48.33       -8.33\n",
       "99            50            59.53       -9.53\n",
       "\n",
       "[100 rows x 3 columns]"
      ],
      "text/html": [
       "<div>\n",
       "<style scoped>\n",
       "    .dataframe tbody tr th:only-of-type {\n",
       "        vertical-align: middle;\n",
       "    }\n",
       "\n",
       "    .dataframe tbody tr th {\n",
       "        vertical-align: top;\n",
       "    }\n",
       "\n",
       "    .dataframe thead th {\n",
       "        text-align: right;\n",
       "    }\n",
       "</style>\n",
       "<table border=\"1\" class=\"dataframe\">\n",
       "  <thead>\n",
       "    <tr style=\"text-align: right;\">\n",
       "      <th></th>\n",
       "      <th>Actual Value</th>\n",
       "      <th>Predicted Value</th>\n",
       "      <th>Difference</th>\n",
       "    </tr>\n",
       "  </thead>\n",
       "  <tbody>\n",
       "    <tr>\n",
       "      <th>0</th>\n",
       "      <td>75</td>\n",
       "      <td>72.81</td>\n",
       "      <td>2.19</td>\n",
       "    </tr>\n",
       "    <tr>\n",
       "      <th>1</th>\n",
       "      <td>65</td>\n",
       "      <td>72.57</td>\n",
       "      <td>-7.57</td>\n",
       "    </tr>\n",
       "    <tr>\n",
       "      <th>2</th>\n",
       "      <td>62</td>\n",
       "      <td>66.71</td>\n",
       "      <td>-4.71</td>\n",
       "    </tr>\n",
       "    <tr>\n",
       "      <th>3</th>\n",
       "      <td>79</td>\n",
       "      <td>76.85</td>\n",
       "      <td>2.15</td>\n",
       "    </tr>\n",
       "    <tr>\n",
       "      <th>4</th>\n",
       "      <td>61</td>\n",
       "      <td>49.35</td>\n",
       "      <td>11.65</td>\n",
       "    </tr>\n",
       "    <tr>\n",
       "      <th>...</th>\n",
       "      <td>...</td>\n",
       "      <td>...</td>\n",
       "      <td>...</td>\n",
       "    </tr>\n",
       "    <tr>\n",
       "      <th>95</th>\n",
       "      <td>60</td>\n",
       "      <td>54.26</td>\n",
       "      <td>5.74</td>\n",
       "    </tr>\n",
       "    <tr>\n",
       "      <th>96</th>\n",
       "      <td>51</td>\n",
       "      <td>53.02</td>\n",
       "      <td>-2.02</td>\n",
       "    </tr>\n",
       "    <tr>\n",
       "      <th>97</th>\n",
       "      <td>69</td>\n",
       "      <td>66.72</td>\n",
       "      <td>2.28</td>\n",
       "    </tr>\n",
       "    <tr>\n",
       "      <th>98</th>\n",
       "      <td>40</td>\n",
       "      <td>48.33</td>\n",
       "      <td>-8.33</td>\n",
       "    </tr>\n",
       "    <tr>\n",
       "      <th>99</th>\n",
       "      <td>50</td>\n",
       "      <td>59.53</td>\n",
       "      <td>-9.53</td>\n",
       "    </tr>\n",
       "  </tbody>\n",
       "</table>\n",
       "<p>100 rows × 3 columns</p>\n",
       "</div>"
      ]
     },
     "execution_count": 22,
     "metadata": {},
     "output_type": "execute_result"
    }
   ],
   "execution_count": 22
  }
 ],
 "metadata": {
  "kernelspec": {
   "display_name": "mlpp",
   "language": "python",
   "name": "mlpp"
  },
  "language_info": {
   "codemirror_mode": {
    "name": "ipython",
    "version": 2
   },
   "file_extension": ".py",
   "mimetype": "text/x-python",
   "name": "python",
   "nbconvert_exporter": "python",
   "pygments_lexer": "ipython2",
   "version": "2.7.6"
  }
 },
 "nbformat": 4,
 "nbformat_minor": 5
}
